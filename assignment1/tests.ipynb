{
 "cells": [
  {
   "cell_type": "code",
   "execution_count": 35,
   "metadata": {},
   "outputs": [
    {
     "name": "stdout",
     "output_type": "stream",
     "text": [
      "100011\n",
      "35\n"
     ]
    }
   ],
   "source": [
    "r, g, b = 128, 0, 255\n",
    "\n",
    "r1 = '{0:07b}'.format(r)[:2]\n",
    "g1 = '{0:07b}'.format(g)[:2]\n",
    "b1 = '{0:07b}'.format(b)[:2]\n",
    "\n",
    "\n",
    "print(int(r1 + g1 + b1))\n",
    "print(int(r1 + g1 + b1, 2))\n",
    "\n",
    "# print(str(int(format(r, 'b')) // 1000000))"
   ]
  },
  {
   "cell_type": "code",
   "execution_count": 4,
   "metadata": {},
   "outputs": [
    {
     "name": "stdout",
     "output_type": "stream",
     "text": [
      "1 2\n",
      "1 2\n",
      "1 2\n",
      "1 2\n",
      "1 2\n",
      "1 2\n",
      "1 2\n"
     ]
    }
   ],
   "source": [
    "list1 = [{1, 2}, {1, 2}, {1, 2}, {1, 2}, {1, 2}, {1, 2}, {1, 2}]\n",
    "\n",
    "for (x, y) in list1:\n",
    "    print(x, y)"
   ]
  }
 ],
 "metadata": {
  "kernelspec": {
   "display_name": "Python 3",
   "language": "python",
   "name": "python3"
  },
  "language_info": {
   "codemirror_mode": {
    "name": "ipython",
    "version": 3
   },
   "file_extension": ".py",
   "mimetype": "text/x-python",
   "name": "python",
   "nbconvert_exporter": "python",
   "pygments_lexer": "ipython3",
   "version": "3.9.5"
  },
  "orig_nbformat": 4,
  "vscode": {
   "interpreter": {
    "hash": "3f0a3d74315e7d1cfa1385ed7cf266e908fef59aa39ed161eb36a3b0e8c10f4c"
   }
  }
 },
 "nbformat": 4,
 "nbformat_minor": 2
}
