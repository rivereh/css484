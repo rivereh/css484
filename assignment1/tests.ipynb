{
 "cells": [
  {
   "cell_type": "code",
   "execution_count": 24,
   "metadata": {},
   "outputs": [
    {
     "name": "stdout",
     "output_type": "stream",
     "text": [
      "0\n"
     ]
    }
   ],
   "source": [
    "r, g, b = 128, 0, 255\n",
    "\n",
    "r1 = str(int('{0:07b}'.format(8)) // 1000000)\n",
    "g1 = '{0:07b}'.format(g)\n",
    "\n",
    "\n",
    "print(g1)\n",
    "\n",
    "# print(str(int(format(r, 'b')) // 1000000))"
   ]
  }
 ],
 "metadata": {
  "kernelspec": {
   "display_name": "Python 3",
   "language": "python",
   "name": "python3"
  },
  "language_info": {
   "codemirror_mode": {
    "name": "ipython",
    "version": 3
   },
   "file_extension": ".py",
   "mimetype": "text/x-python",
   "name": "python",
   "nbconvert_exporter": "python",
   "pygments_lexer": "ipython3",
   "version": "3.9.5"
  },
  "orig_nbformat": 4,
  "vscode": {
   "interpreter": {
    "hash": "3f0a3d74315e7d1cfa1385ed7cf266e908fef59aa39ed161eb36a3b0e8c10f4c"
   }
  }
 },
 "nbformat": 4,
 "nbformat_minor": 2
}
